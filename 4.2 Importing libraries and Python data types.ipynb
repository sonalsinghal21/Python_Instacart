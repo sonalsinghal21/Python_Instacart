{
 "cells": [
  {
   "cell_type": "markdown",
   "id": "758f3f7c",
   "metadata": {},
   "source": []
  },
  {
   "cell_type": "markdown",
   "id": "799db1ba",
   "metadata": {},
   "source": [
    "# 01. Importing libraries"
   ]
  },
  {
   "cell_type": "code",
   "execution_count": 28,
   "id": "362c72a6",
   "metadata": {},
   "outputs": [],
   "source": [
    "# Import libraries\n",
    "import pandas as pd\n",
    "import numpy as np\n",
    "import os"
   ]
  },
  {
   "cell_type": "code",
   "execution_count": 29,
   "id": "096e1257",
   "metadata": {},
   "outputs": [],
   "source": [
    "X = 2"
   ]
  },
  {
   "cell_type": "code",
   "execution_count": 30,
   "id": "0bd310d6",
   "metadata": {},
   "outputs": [
    {
     "ename": "NameError",
     "evalue": "name 'x' is not defined",
     "output_type": "error",
     "traceback": [
      "\u001b[0;31m---------------------------------------------------------------------------\u001b[0m",
      "\u001b[0;31mNameError\u001b[0m                                 Traceback (most recent call last)",
      "Cell \u001b[0;32mIn[30], line 1\u001b[0m\n\u001b[0;32m----> 1\u001b[0m \u001b[43mx\u001b[49m\n",
      "\u001b[0;31mNameError\u001b[0m: name 'x' is not defined"
     ]
    }
   ],
   "source": [
    "x"
   ]
  },
  {
   "cell_type": "code",
   "execution_count": 31,
   "id": "b97c4d7e",
   "metadata": {},
   "outputs": [
    {
     "data": {
      "text/plain": [
       "2"
      ]
     },
     "execution_count": 31,
     "metadata": {},
     "output_type": "execute_result"
    }
   ],
   "source": [
    "X"
   ]
  },
  {
   "cell_type": "code",
   "execution_count": 32,
   "id": "4b568d22",
   "metadata": {},
   "outputs": [
    {
     "data": {
      "text/plain": [
       "int"
      ]
     },
     "execution_count": 32,
     "metadata": {},
     "output_type": "execute_result"
    }
   ],
   "source": [
    "type(X)"
   ]
  },
  {
   "cell_type": "code",
   "execution_count": 33,
   "id": "d36f35f5",
   "metadata": {},
   "outputs": [],
   "source": [
    "y = 5.786"
   ]
  },
  {
   "cell_type": "code",
   "execution_count": 34,
   "id": "449ac63b",
   "metadata": {},
   "outputs": [
    {
     "data": {
      "text/plain": [
       "float"
      ]
     },
     "execution_count": 34,
     "metadata": {},
     "output_type": "execute_result"
    }
   ],
   "source": [
    "type(y)"
   ]
  },
  {
   "cell_type": "code",
   "execution_count": 35,
   "id": "9c3069b8",
   "metadata": {},
   "outputs": [],
   "source": [
    "z = 'India'"
   ]
  },
  {
   "cell_type": "code",
   "execution_count": 36,
   "id": "38aeb01e",
   "metadata": {},
   "outputs": [
    {
     "data": {
      "text/plain": [
       "str"
      ]
     },
     "execution_count": 36,
     "metadata": {},
     "output_type": "execute_result"
    }
   ],
   "source": [
    "type(z)"
   ]
  },
  {
   "cell_type": "code",
   "execution_count": 38,
   "id": "726a9acd",
   "metadata": {},
   "outputs": [
    {
     "data": {
      "text/plain": [
       "bool"
      ]
     },
     "execution_count": 38,
     "metadata": {},
     "output_type": "execute_result"
    }
   ],
   "source": [
    "type(True)"
   ]
  },
  {
   "cell_type": "code",
   "execution_count": 40,
   "id": "fc98f911",
   "metadata": {},
   "outputs": [
    {
     "name": "stdout",
     "output_type": "stream",
     "text": [
      "2\n"
     ]
    }
   ],
   "source": [
    "print(X)"
   ]
  },
  {
   "cell_type": "code",
   "execution_count": 44,
   "id": "5bb4d8b1",
   "metadata": {},
   "outputs": [],
   "source": [
    "X = X+4"
   ]
  },
  {
   "cell_type": "code",
   "execution_count": 45,
   "id": "4f9dbf41",
   "metadata": {},
   "outputs": [
    {
     "name": "stdout",
     "output_type": "stream",
     "text": [
      "8\n"
     ]
    }
   ],
   "source": [
    "print(X)"
   ]
  },
  {
   "cell_type": "code",
   "execution_count": 54,
   "id": "33acfb34",
   "metadata": {},
   "outputs": [],
   "source": [
    "a='Hello '"
   ]
  },
  {
   "cell_type": "code",
   "execution_count": 55,
   "id": "c6cc68e6",
   "metadata": {},
   "outputs": [],
   "source": [
    "b='duggu'"
   ]
  },
  {
   "cell_type": "code",
   "execution_count": 56,
   "id": "57a4d592",
   "metadata": {},
   "outputs": [
    {
     "data": {
      "text/plain": [
       "'Hello duggu'"
      ]
     },
     "execution_count": 56,
     "metadata": {},
     "output_type": "execute_result"
    }
   ],
   "source": [
    "a+b"
   ]
  },
  {
   "cell_type": "code",
   "execution_count": 57,
   "id": "5a0d4aa2",
   "metadata": {},
   "outputs": [],
   "source": [
    "c='parth '"
   ]
  },
  {
   "cell_type": "code",
   "execution_count": 58,
   "id": "0b667ff1",
   "metadata": {},
   "outputs": [
    {
     "data": {
      "text/plain": [
       "'parth parth parth parth parth '"
      ]
     },
     "execution_count": 58,
     "metadata": {},
     "output_type": "execute_result"
    }
   ],
   "source": [
    "c * 5"
   ]
  },
  {
   "cell_type": "code",
   "execution_count": 59,
   "id": "c6cee32b",
   "metadata": {},
   "outputs": [
    {
     "data": {
      "text/plain": [
       "False"
      ]
     },
     "execution_count": 59,
     "metadata": {},
     "output_type": "execute_result"
    }
   ],
   "source": [
    "X == y"
   ]
  },
  {
   "cell_type": "code",
   "execution_count": 61,
   "id": "1de5dd4e",
   "metadata": {},
   "outputs": [
    {
     "data": {
      "text/plain": [
       "bool"
      ]
     },
     "execution_count": 61,
     "metadata": {},
     "output_type": "execute_result"
    }
   ],
   "source": [
    "type(X==y)"
   ]
  },
  {
   "cell_type": "code",
   "execution_count": 66,
   "id": "d2a18c77",
   "metadata": {},
   "outputs": [
    {
     "name": "stdout",
     "output_type": "stream",
     "text": [
      "sum = 100\n"
     ]
    }
   ],
   "source": [
    "#Addition\n",
    "a = 50\n",
    "b = 50\n",
    "print('sum','=', a + b)"
   ]
  },
  {
   "cell_type": "code",
   "execution_count": 67,
   "id": "ccf6de70",
   "metadata": {},
   "outputs": [
    {
     "name": "stdout",
     "output_type": "stream",
     "text": [
      "result = 100\n"
     ]
    }
   ],
   "source": [
    "#Addition and Subtraction\n",
    "a = 150\n",
    "b = 20\n",
    "c = 70\n",
    "print('result', '=', a + b - c)"
   ]
  },
  {
   "cell_type": "code",
   "execution_count": 70,
   "id": "82b1bed9",
   "metadata": {},
   "outputs": [
    {
     "name": "stdout",
     "output_type": "stream",
     "text": [
      "result = 100\n"
     ]
    }
   ],
   "source": [
    "#Addition and Subtraction\n",
    "a = 200\n",
    "b = 50\n",
    "c = 50\n",
    "print('result', '=', a - b - c)"
   ]
  },
  {
   "cell_type": "code",
   "execution_count": 71,
   "id": "9a8afc0c",
   "metadata": {},
   "outputs": [
    {
     "name": "stdout",
     "output_type": "stream",
     "text": [
      "result = 4.015625\n"
     ]
    }
   ],
   "source": [
    "#floating point variables\n",
    "a = 25.7\n",
    "b = 6.4\n",
    "print('result', '=', a/b)"
   ]
  },
  {
   "cell_type": "code",
   "execution_count": 75,
   "id": "02d02943",
   "metadata": {},
   "outputs": [
    {
     "name": "stdout",
     "output_type": "stream",
     "text": [
      "result = Data Analytics\n"
     ]
    }
   ],
   "source": [
    "#a short word made of separate strings\n",
    "a = 'Data '\n",
    "b = 'Analytics'\n",
    "print('result', '=', a + b)"
   ]
  },
  {
   "cell_type": "code",
   "execution_count": 82,
   "id": "fe59cb3f",
   "metadata": {},
   "outputs": [
    {
     "name": "stdout",
     "output_type": "stream",
     "text": [
      "In India, with a population of 1.408 billion, You can visit the famous Taj Mahal.\n"
     ]
    }
   ],
   "source": [
    "#short sentences made of separate strings.\n",
    "city = 'India'\n",
    "population = '1.408 billion'\n",
    "famous_landmark ='Taj Mahal'\n",
    "sentence = 'In ' + city + ', with a population of ' + population + ', You can visit the famous ' + famous_landmark + '.'\n",
    "print(sentence)"
   ]
  },
  {
   "cell_type": "code",
   "execution_count": 90,
   "id": "ab8fa4f9",
   "metadata": {},
   "outputs": [
    {
     "name": "stdout",
     "output_type": "stream",
     "text": [
      "The Brown Dog barks Loudly.\n"
     ]
    }
   ],
   "source": [
    "#short sentences made of separate strings.\n",
    "animal = 'Dog'\n",
    "color = 'Brown'\n",
    "sound = 'barks'\n",
    "sentence = 'The ' +color + ' ' +animal + ' ' +sound +' ' 'Loudly' '.'\n",
    "print(sentence)\n",
    "\n",
    "\n"
   ]
  },
  {
   "cell_type": "code",
   "execution_count": 93,
   "id": "d15597d4",
   "metadata": {},
   "outputs": [
    {
     "name": "stdout",
     "output_type": "stream",
     "text": [
      "Data Analytics Data Analytics Data Analytics Data Analytics Data Analytics Data Analytics Data Analytics Data Analytics Data Analytics Data Analytics Data Analytics Data Analytics Data Analytics Data Analytics Data Analytics Data Analytics Data Analytics Data Analytics Data Analytics Data Analytics Data Analytics Data Analytics Data Analytics Data Analytics Data Analytics Data Analytics Data Analytics Data Analytics Data Analytics Data Analytics Data Analytics Data Analytics Data Analytics Data Analytics Data Analytics Data Analytics Data Analytics Data Analytics Data Analytics Data Analytics Data Analytics Data Analytics Data Analytics Data Analytics Data Analytics Data Analytics Data Analytics Data Analytics Data Analytics Data Analytics Data Analytics Data Analytics Data Analytics Data Analytics Data Analytics Data Analytics Data Analytics Data Analytics Data Analytics Data Analytics Data Analytics Data Analytics Data Analytics Data Analytics Data Analytics Data Analytics Data Analytics Data Analytics Data Analytics Data Analytics Data Analytics Data Analytics Data Analytics Data Analytics Data Analytics Data Analytics Data Analytics Data Analytics Data Analytics Data Analytics Data Analytics Data Analytics Data Analytics Data Analytics Data Analytics Data Analytics Data Analytics Data Analytics Data Analytics Data Analytics Data Analytics Data Analytics Data Analytics Data Analytics Data Analytics Data Analytics Data Analytics Data Analytics Data Analytics Data Analytics \n"
     ]
    }
   ],
   "source": [
    "#Bonus task-include a command that makes a string appear 100 times.\n",
    "string = 'Data Analytics ' * 100\n",
    "print(string)"
   ]
  },
  {
   "cell_type": "code",
   "execution_count": null,
   "id": "419bc6a6",
   "metadata": {},
   "outputs": [],
   "source": []
  }
 ],
 "metadata": {
  "kernelspec": {
   "display_name": "Python 3 (ipykernel)",
   "language": "python",
   "name": "python3"
  },
  "language_info": {
   "codemirror_mode": {
    "name": "ipython",
    "version": 3
   },
   "file_extension": ".py",
   "mimetype": "text/x-python",
   "name": "python",
   "nbconvert_exporter": "python",
   "pygments_lexer": "ipython3",
   "version": "3.10.9"
  }
 },
 "nbformat": 4,
 "nbformat_minor": 5
}
