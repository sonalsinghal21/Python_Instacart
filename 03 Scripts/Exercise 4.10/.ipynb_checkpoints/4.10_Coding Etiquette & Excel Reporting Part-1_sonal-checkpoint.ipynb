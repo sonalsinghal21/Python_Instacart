{
 "cells": [
  {
   "cell_type": "markdown",
   "id": "84341b6e",
   "metadata": {},
   "source": [
    "# Importing libraries"
   ]
  },
  {
   "cell_type": "code",
   "execution_count": 1,
   "id": "3cfb46c4",
   "metadata": {},
   "outputs": [],
   "source": [
    "import pandas as pd\n",
    "import numpy as np\n",
    "import os\n",
    "import matplotlib.pyplot as plt\n",
    "import seaborn as sns\n",
    "import scipy"
   ]
  },
  {
   "cell_type": "code",
   "execution_count": 2,
   "id": "d5ef48b6",
   "metadata": {},
   "outputs": [],
   "source": [
    "#define path for future use\n",
    "path = r'/Users/krishngarg/Downloads/Data Analytics/Data immersion /Achievement_4/06-2020 Instacart Basket Analysis'"
   ]
  },
  {
   "cell_type": "code",
   "execution_count": 3,
   "id": "3d53c5e6",
   "metadata": {},
   "outputs": [],
   "source": [
    "ic_data = pd.read_pickle(os.path.join(path,'02 Data','ords_prods_cust_updated.pkl'))"
   ]
  },
  {
   "cell_type": "code",
   "execution_count": 4,
   "id": "dc61f62f",
   "metadata": {},
   "outputs": [
    {
     "data": {
      "text/html": [
       "<div>\n",
       "<style scoped>\n",
       "    .dataframe tbody tr th:only-of-type {\n",
       "        vertical-align: middle;\n",
       "    }\n",
       "\n",
       "    .dataframe tbody tr th {\n",
       "        vertical-align: top;\n",
       "    }\n",
       "\n",
       "    .dataframe thead th {\n",
       "        text-align: right;\n",
       "    }\n",
       "</style>\n",
       "<table border=\"1\" class=\"dataframe\">\n",
       "  <thead>\n",
       "    <tr style=\"text-align: right;\">\n",
       "      <th></th>\n",
       "      <th>user_id</th>\n",
       "      <th>First Name</th>\n",
       "      <th>Last Name</th>\n",
       "      <th>Gender</th>\n",
       "      <th>State</th>\n",
       "      <th>Age</th>\n",
       "      <th>Date_of_joining</th>\n",
       "      <th>Number_of_dependants</th>\n",
       "      <th>Marital_status</th>\n",
       "      <th>Income</th>\n",
       "      <th>...</th>\n",
       "      <th>price_range_loc</th>\n",
       "      <th>Busiest day</th>\n",
       "      <th>Busiest_days</th>\n",
       "      <th>busiest_period_of_day</th>\n",
       "      <th>max_order</th>\n",
       "      <th>loyalty_flag</th>\n",
       "      <th>average_price</th>\n",
       "      <th>spending_flag</th>\n",
       "      <th>median_prior_orders</th>\n",
       "      <th>order_frequency_flag</th>\n",
       "    </tr>\n",
       "  </thead>\n",
       "  <tbody>\n",
       "    <tr>\n",
       "      <th>0</th>\n",
       "      <td>26711</td>\n",
       "      <td>Deborah</td>\n",
       "      <td>Esquivel</td>\n",
       "      <td>Female</td>\n",
       "      <td>Missouri</td>\n",
       "      <td>48</td>\n",
       "      <td>1/1/2017</td>\n",
       "      <td>3</td>\n",
       "      <td>married</td>\n",
       "      <td>165665</td>\n",
       "      <td>...</td>\n",
       "      <td>Mid-range product</td>\n",
       "      <td>Regularly busy</td>\n",
       "      <td>Busiest days</td>\n",
       "      <td>Most orders</td>\n",
       "      <td>8</td>\n",
       "      <td>New customer</td>\n",
       "      <td>7.99</td>\n",
       "      <td>Low spender</td>\n",
       "      <td>19.0</td>\n",
       "      <td>Regular customer</td>\n",
       "    </tr>\n",
       "    <tr>\n",
       "      <th>1</th>\n",
       "      <td>26711</td>\n",
       "      <td>Deborah</td>\n",
       "      <td>Esquivel</td>\n",
       "      <td>Female</td>\n",
       "      <td>Missouri</td>\n",
       "      <td>48</td>\n",
       "      <td>1/1/2017</td>\n",
       "      <td>3</td>\n",
       "      <td>married</td>\n",
       "      <td>165665</td>\n",
       "      <td>...</td>\n",
       "      <td>Mid-range product</td>\n",
       "      <td>Regularly busy</td>\n",
       "      <td>Regularly busy</td>\n",
       "      <td>Most orders</td>\n",
       "      <td>8</td>\n",
       "      <td>New customer</td>\n",
       "      <td>7.99</td>\n",
       "      <td>Low spender</td>\n",
       "      <td>19.0</td>\n",
       "      <td>Regular customer</td>\n",
       "    </tr>\n",
       "    <tr>\n",
       "      <th>2</th>\n",
       "      <td>26711</td>\n",
       "      <td>Deborah</td>\n",
       "      <td>Esquivel</td>\n",
       "      <td>Female</td>\n",
       "      <td>Missouri</td>\n",
       "      <td>48</td>\n",
       "      <td>1/1/2017</td>\n",
       "      <td>3</td>\n",
       "      <td>married</td>\n",
       "      <td>165665</td>\n",
       "      <td>...</td>\n",
       "      <td>Mid-range product</td>\n",
       "      <td>Regularly busy</td>\n",
       "      <td>Busiest days</td>\n",
       "      <td>Most orders</td>\n",
       "      <td>8</td>\n",
       "      <td>New customer</td>\n",
       "      <td>7.99</td>\n",
       "      <td>Low spender</td>\n",
       "      <td>19.0</td>\n",
       "      <td>Regular customer</td>\n",
       "    </tr>\n",
       "    <tr>\n",
       "      <th>3</th>\n",
       "      <td>26711</td>\n",
       "      <td>Deborah</td>\n",
       "      <td>Esquivel</td>\n",
       "      <td>Female</td>\n",
       "      <td>Missouri</td>\n",
       "      <td>48</td>\n",
       "      <td>1/1/2017</td>\n",
       "      <td>3</td>\n",
       "      <td>married</td>\n",
       "      <td>165665</td>\n",
       "      <td>...</td>\n",
       "      <td>Mid-range product</td>\n",
       "      <td>Regularly busy</td>\n",
       "      <td>Regularly busy</td>\n",
       "      <td>Most orders</td>\n",
       "      <td>8</td>\n",
       "      <td>New customer</td>\n",
       "      <td>7.99</td>\n",
       "      <td>Low spender</td>\n",
       "      <td>19.0</td>\n",
       "      <td>Regular customer</td>\n",
       "    </tr>\n",
       "    <tr>\n",
       "      <th>4</th>\n",
       "      <td>26711</td>\n",
       "      <td>Deborah</td>\n",
       "      <td>Esquivel</td>\n",
       "      <td>Female</td>\n",
       "      <td>Missouri</td>\n",
       "      <td>48</td>\n",
       "      <td>1/1/2017</td>\n",
       "      <td>3</td>\n",
       "      <td>married</td>\n",
       "      <td>165665</td>\n",
       "      <td>...</td>\n",
       "      <td>Mid-range product</td>\n",
       "      <td>Regularly busy</td>\n",
       "      <td>Least busys</td>\n",
       "      <td>Most orders</td>\n",
       "      <td>8</td>\n",
       "      <td>New customer</td>\n",
       "      <td>7.99</td>\n",
       "      <td>Low spender</td>\n",
       "      <td>19.0</td>\n",
       "      <td>Regular customer</td>\n",
       "    </tr>\n",
       "  </tbody>\n",
       "</table>\n",
       "<p>5 rows × 32 columns</p>\n",
       "</div>"
      ],
      "text/plain": [
       "  user_id First Name Last Name  Gender     State  Age Date_of_joining  \\\n",
       "0   26711    Deborah  Esquivel  Female  Missouri   48        1/1/2017   \n",
       "1   26711    Deborah  Esquivel  Female  Missouri   48        1/1/2017   \n",
       "2   26711    Deborah  Esquivel  Female  Missouri   48        1/1/2017   \n",
       "3   26711    Deborah  Esquivel  Female  Missouri   48        1/1/2017   \n",
       "4   26711    Deborah  Esquivel  Female  Missouri   48        1/1/2017   \n",
       "\n",
       "   Number_of_dependants Marital_status  Income  ...    price_range_loc  \\\n",
       "0                     3        married  165665  ...  Mid-range product   \n",
       "1                     3        married  165665  ...  Mid-range product   \n",
       "2                     3        married  165665  ...  Mid-range product   \n",
       "3                     3        married  165665  ...  Mid-range product   \n",
       "4                     3        married  165665  ...  Mid-range product   \n",
       "\n",
       "      Busiest day    Busiest_days  busiest_period_of_day  max_order  \\\n",
       "0  Regularly busy    Busiest days            Most orders          8   \n",
       "1  Regularly busy  Regularly busy            Most orders          8   \n",
       "2  Regularly busy    Busiest days            Most orders          8   \n",
       "3  Regularly busy  Regularly busy            Most orders          8   \n",
       "4  Regularly busy     Least busys            Most orders          8   \n",
       "\n",
       "   loyalty_flag  average_price  spending_flag median_prior_orders  \\\n",
       "0  New customer           7.99    Low spender                19.0   \n",
       "1  New customer           7.99    Low spender                19.0   \n",
       "2  New customer           7.99    Low spender                19.0   \n",
       "3  New customer           7.99    Low spender                19.0   \n",
       "4  New customer           7.99    Low spender                19.0   \n",
       "\n",
       "   order_frequency_flag  \n",
       "0      Regular customer  \n",
       "1      Regular customer  \n",
       "2      Regular customer  \n",
       "3      Regular customer  \n",
       "4      Regular customer  \n",
       "\n",
       "[5 rows x 32 columns]"
      ]
     },
     "execution_count": 4,
     "metadata": {},
     "output_type": "execute_result"
    }
   ],
   "source": [
    "ic_data.head()"
   ]
  },
  {
   "cell_type": "code",
   "execution_count": 5,
   "id": "99271ffc",
   "metadata": {},
   "outputs": [
    {
     "name": "stdout",
     "output_type": "stream",
     "text": [
      "<class 'pandas.core.frame.DataFrame'>\n",
      "Int64Index: 30629741 entries, 0 to 30629740\n",
      "Data columns (total 32 columns):\n",
      " #   Column                  Dtype  \n",
      "---  ------                  -----  \n",
      " 0   user_id                 object \n",
      " 1   First Name              object \n",
      " 2   Last Name               object \n",
      " 3   Gender                  object \n",
      " 4   State                   object \n",
      " 5   Age                     int64  \n",
      " 6   Date_of_joining         object \n",
      " 7   Number_of_dependants    int64  \n",
      " 8   Marital_status          object \n",
      " 9   Income                  int64  \n",
      " 10  order_id                int64  \n",
      " 11  order_number            int64  \n",
      " 12  orders_day_of_week      int64  \n",
      " 13  order_hour_of_day       int64  \n",
      " 14  days_since_prior_order  float64\n",
      " 15  product_id              int64  \n",
      " 16  add_to_cart_order       int64  \n",
      " 17  reordered               int64  \n",
      " 18  product_name            object \n",
      " 19  aisle_id                int64  \n",
      " 20  department_id           int64  \n",
      " 21  prices                  float64\n",
      " 22  price_range_loc         object \n",
      " 23  Busiest day             object \n",
      " 24  Busiest_days            object \n",
      " 25  busiest_period_of_day   object \n",
      " 26  max_order               int64  \n",
      " 27  loyalty_flag            object \n",
      " 28  average_price           float64\n",
      " 29  spending_flag           object \n",
      " 30  median_prior_orders     float64\n",
      " 31  order_frequency_flag    object \n",
      "dtypes: float64(4), int64(13), object(15)\n",
      "memory usage: 7.5+ GB\n"
     ]
    }
   ],
   "source": [
    "ic_data.info()"
   ]
  },
  {
   "cell_type": "markdown",
   "id": "0f5eb286",
   "metadata": {},
   "source": [
    "# 2. Data incldues identifier such as names, checked with stateholders and determiend data should be dropped."
   ]
  },
  {
   "cell_type": "code",
   "execution_count": 6,
   "id": "af1c96a3",
   "metadata": {},
   "outputs": [],
   "source": [
    "#Dropping first name \n",
    "ic_data = ic_data.drop(columns = ['First Name'] )"
   ]
  },
  {
   "cell_type": "code",
   "execution_count": 8,
   "id": "21984fc5",
   "metadata": {},
   "outputs": [],
   "source": [
    "ic_data = ic_data.drop(columns = ['Last Name'] )"
   ]
  },
  {
   "cell_type": "code",
   "execution_count": 9,
   "id": "5ff3eaa8",
   "metadata": {},
   "outputs": [
    {
     "data": {
      "text/html": [
       "<div>\n",
       "<style scoped>\n",
       "    .dataframe tbody tr th:only-of-type {\n",
       "        vertical-align: middle;\n",
       "    }\n",
       "\n",
       "    .dataframe tbody tr th {\n",
       "        vertical-align: top;\n",
       "    }\n",
       "\n",
       "    .dataframe thead th {\n",
       "        text-align: right;\n",
       "    }\n",
       "</style>\n",
       "<table border=\"1\" class=\"dataframe\">\n",
       "  <thead>\n",
       "    <tr style=\"text-align: right;\">\n",
       "      <th></th>\n",
       "      <th>user_id</th>\n",
       "      <th>Gender</th>\n",
       "      <th>State</th>\n",
       "      <th>Age</th>\n",
       "      <th>Date_of_joining</th>\n",
       "      <th>Number_of_dependants</th>\n",
       "      <th>Marital_status</th>\n",
       "      <th>Income</th>\n",
       "      <th>order_id</th>\n",
       "      <th>order_number</th>\n",
       "      <th>...</th>\n",
       "      <th>price_range_loc</th>\n",
       "      <th>Busiest day</th>\n",
       "      <th>Busiest_days</th>\n",
       "      <th>busiest_period_of_day</th>\n",
       "      <th>max_order</th>\n",
       "      <th>loyalty_flag</th>\n",
       "      <th>average_price</th>\n",
       "      <th>spending_flag</th>\n",
       "      <th>median_prior_orders</th>\n",
       "      <th>order_frequency_flag</th>\n",
       "    </tr>\n",
       "  </thead>\n",
       "  <tbody>\n",
       "    <tr>\n",
       "      <th>0</th>\n",
       "      <td>26711</td>\n",
       "      <td>Female</td>\n",
       "      <td>Missouri</td>\n",
       "      <td>48</td>\n",
       "      <td>1/1/2017</td>\n",
       "      <td>3</td>\n",
       "      <td>married</td>\n",
       "      <td>165665</td>\n",
       "      <td>2543867</td>\n",
       "      <td>5</td>\n",
       "      <td>...</td>\n",
       "      <td>Mid-range product</td>\n",
       "      <td>Regularly busy</td>\n",
       "      <td>Busiest days</td>\n",
       "      <td>Most orders</td>\n",
       "      <td>8</td>\n",
       "      <td>New customer</td>\n",
       "      <td>7.99</td>\n",
       "      <td>Low spender</td>\n",
       "      <td>19.0</td>\n",
       "      <td>Regular customer</td>\n",
       "    </tr>\n",
       "    <tr>\n",
       "      <th>1</th>\n",
       "      <td>26711</td>\n",
       "      <td>Female</td>\n",
       "      <td>Missouri</td>\n",
       "      <td>48</td>\n",
       "      <td>1/1/2017</td>\n",
       "      <td>3</td>\n",
       "      <td>married</td>\n",
       "      <td>165665</td>\n",
       "      <td>1285508</td>\n",
       "      <td>7</td>\n",
       "      <td>...</td>\n",
       "      <td>Mid-range product</td>\n",
       "      <td>Regularly busy</td>\n",
       "      <td>Regularly busy</td>\n",
       "      <td>Most orders</td>\n",
       "      <td>8</td>\n",
       "      <td>New customer</td>\n",
       "      <td>7.99</td>\n",
       "      <td>Low spender</td>\n",
       "      <td>19.0</td>\n",
       "      <td>Regular customer</td>\n",
       "    </tr>\n",
       "    <tr>\n",
       "      <th>2</th>\n",
       "      <td>26711</td>\n",
       "      <td>Female</td>\n",
       "      <td>Missouri</td>\n",
       "      <td>48</td>\n",
       "      <td>1/1/2017</td>\n",
       "      <td>3</td>\n",
       "      <td>married</td>\n",
       "      <td>165665</td>\n",
       "      <td>2578584</td>\n",
       "      <td>8</td>\n",
       "      <td>...</td>\n",
       "      <td>Mid-range product</td>\n",
       "      <td>Regularly busy</td>\n",
       "      <td>Busiest days</td>\n",
       "      <td>Most orders</td>\n",
       "      <td>8</td>\n",
       "      <td>New customer</td>\n",
       "      <td>7.99</td>\n",
       "      <td>Low spender</td>\n",
       "      <td>19.0</td>\n",
       "      <td>Regular customer</td>\n",
       "    </tr>\n",
       "    <tr>\n",
       "      <th>3</th>\n",
       "      <td>26711</td>\n",
       "      <td>Female</td>\n",
       "      <td>Missouri</td>\n",
       "      <td>48</td>\n",
       "      <td>1/1/2017</td>\n",
       "      <td>3</td>\n",
       "      <td>married</td>\n",
       "      <td>165665</td>\n",
       "      <td>423547</td>\n",
       "      <td>2</td>\n",
       "      <td>...</td>\n",
       "      <td>Mid-range product</td>\n",
       "      <td>Regularly busy</td>\n",
       "      <td>Regularly busy</td>\n",
       "      <td>Most orders</td>\n",
       "      <td>8</td>\n",
       "      <td>New customer</td>\n",
       "      <td>7.99</td>\n",
       "      <td>Low spender</td>\n",
       "      <td>19.0</td>\n",
       "      <td>Regular customer</td>\n",
       "    </tr>\n",
       "    <tr>\n",
       "      <th>4</th>\n",
       "      <td>26711</td>\n",
       "      <td>Female</td>\n",
       "      <td>Missouri</td>\n",
       "      <td>48</td>\n",
       "      <td>1/1/2017</td>\n",
       "      <td>3</td>\n",
       "      <td>married</td>\n",
       "      <td>165665</td>\n",
       "      <td>2524893</td>\n",
       "      <td>3</td>\n",
       "      <td>...</td>\n",
       "      <td>Mid-range product</td>\n",
       "      <td>Regularly busy</td>\n",
       "      <td>Least busys</td>\n",
       "      <td>Most orders</td>\n",
       "      <td>8</td>\n",
       "      <td>New customer</td>\n",
       "      <td>7.99</td>\n",
       "      <td>Low spender</td>\n",
       "      <td>19.0</td>\n",
       "      <td>Regular customer</td>\n",
       "    </tr>\n",
       "  </tbody>\n",
       "</table>\n",
       "<p>5 rows × 30 columns</p>\n",
       "</div>"
      ],
      "text/plain": [
       "  user_id  Gender     State  Age Date_of_joining  Number_of_dependants  \\\n",
       "0   26711  Female  Missouri   48        1/1/2017                     3   \n",
       "1   26711  Female  Missouri   48        1/1/2017                     3   \n",
       "2   26711  Female  Missouri   48        1/1/2017                     3   \n",
       "3   26711  Female  Missouri   48        1/1/2017                     3   \n",
       "4   26711  Female  Missouri   48        1/1/2017                     3   \n",
       "\n",
       "  Marital_status  Income  order_id  order_number  ...    price_range_loc  \\\n",
       "0        married  165665   2543867             5  ...  Mid-range product   \n",
       "1        married  165665   1285508             7  ...  Mid-range product   \n",
       "2        married  165665   2578584             8  ...  Mid-range product   \n",
       "3        married  165665    423547             2  ...  Mid-range product   \n",
       "4        married  165665   2524893             3  ...  Mid-range product   \n",
       "\n",
       "      Busiest day    Busiest_days  busiest_period_of_day  max_order  \\\n",
       "0  Regularly busy    Busiest days            Most orders          8   \n",
       "1  Regularly busy  Regularly busy            Most orders          8   \n",
       "2  Regularly busy    Busiest days            Most orders          8   \n",
       "3  Regularly busy  Regularly busy            Most orders          8   \n",
       "4  Regularly busy     Least busys            Most orders          8   \n",
       "\n",
       "   loyalty_flag average_price  spending_flag  median_prior_orders  \\\n",
       "0  New customer          7.99    Low spender                 19.0   \n",
       "1  New customer          7.99    Low spender                 19.0   \n",
       "2  New customer          7.99    Low spender                 19.0   \n",
       "3  New customer          7.99    Low spender                 19.0   \n",
       "4  New customer          7.99    Low spender                 19.0   \n",
       "\n",
       "   order_frequency_flag  \n",
       "0      Regular customer  \n",
       "1      Regular customer  \n",
       "2      Regular customer  \n",
       "3      Regular customer  \n",
       "4      Regular customer  \n",
       "\n",
       "[5 rows x 30 columns]"
      ]
     },
     "execution_count": 9,
     "metadata": {},
     "output_type": "execute_result"
    }
   ],
   "source": [
    "ic_data.head()"
   ]
  },
  {
   "cell_type": "markdown",
   "id": "4d6d6fe5",
   "metadata": {},
   "source": [
    "# 3. Create a regional segmentation of the data. "
   ]
  },
  {
   "cell_type": "markdown",
   "id": "44aaf44c",
   "metadata": {},
   "source": [
    "Creating region flag"
   ]
  },
  {
   "cell_type": "code",
   "execution_count": 10,
   "id": "4e272167",
   "metadata": {},
   "outputs": [],
   "source": [
    "# region groups\n",
    "Northeast = ['Maine', 'New Hampshire', 'Vermont', 'Massachusetts', 'Rhode Island', 'Connecticut', 'New York', 'Pennsylvania', 'New Jersey']\n",
    "Midwest = ['Wisconsin', 'Michigan', 'Illinois', 'Indiana', 'Ohio', 'North Dakota', 'South Dakota', 'Nebraska', 'Kansas', 'Minnesota', 'Iowa', 'Missouri']\n",
    "South = ['Delaware', 'Maryland', 'District of Columbia', 'Virginia', 'West Virginia', 'North Carolina', 'South Carolina', 'Georgia', 'Florida', 'Kentucky', 'Tennessee', 'Mississippi', 'Alabama', 'Oklahoma', 'Texas', 'Arkansas', 'Louisiana']\n",
    "West = ['Idaho', 'Montana', 'Wyoming', 'Nevada', 'Utah', 'Colorado', 'Arizona', 'New Mexico', 'Alaska', 'Washington', 'Oregon', 'California', 'Hawaii']"
   ]
  },
  {
   "cell_type": "code",
   "execution_count": 11,
   "id": "048f863d",
   "metadata": {},
   "outputs": [
    {
     "data": {
      "text/plain": [
       "['Maine',\n",
       " 'New Hampshire',\n",
       " 'Vermont',\n",
       " 'Massachusetts',\n",
       " 'Rhode Island',\n",
       " 'Connecticut',\n",
       " 'New York',\n",
       " 'Pennsylvania',\n",
       " 'New Jersey']"
      ]
     },
     "execution_count": 11,
     "metadata": {},
     "output_type": "execute_result"
    }
   ],
   "source": [
    "Northeast"
   ]
  },
  {
   "cell_type": "code",
   "execution_count": 12,
   "id": "23db7c55",
   "metadata": {},
   "outputs": [
    {
     "data": {
      "text/plain": [
       "['Wisconsin',\n",
       " 'Michigan',\n",
       " 'Illinois',\n",
       " 'Indiana',\n",
       " 'Ohio',\n",
       " 'North Dakota',\n",
       " 'South Dakota',\n",
       " 'Nebraska',\n",
       " 'Kansas',\n",
       " 'Minnesota',\n",
       " 'Iowa',\n",
       " 'Missouri']"
      ]
     },
     "execution_count": 12,
     "metadata": {},
     "output_type": "execute_result"
    }
   ],
   "source": [
    "Midwest"
   ]
  },
  {
   "cell_type": "code",
   "execution_count": 13,
   "id": "2d07974e",
   "metadata": {},
   "outputs": [
    {
     "data": {
      "text/plain": [
       "['Delaware',\n",
       " 'Maryland',\n",
       " 'District of Columbia',\n",
       " 'Virginia',\n",
       " 'West Virginia',\n",
       " 'North Carolina',\n",
       " 'South Carolina',\n",
       " 'Georgia',\n",
       " 'Florida',\n",
       " 'Kentucky',\n",
       " 'Tennessee',\n",
       " 'Mississippi',\n",
       " 'Alabama',\n",
       " 'Oklahoma',\n",
       " 'Texas',\n",
       " 'Arkansas',\n",
       " 'Louisiana']"
      ]
     },
     "execution_count": 13,
     "metadata": {},
     "output_type": "execute_result"
    }
   ],
   "source": [
    "South"
   ]
  },
  {
   "cell_type": "code",
   "execution_count": 14,
   "id": "1c4a9988",
   "metadata": {},
   "outputs": [
    {
     "data": {
      "text/plain": [
       "['Idaho',\n",
       " 'Montana',\n",
       " 'Wyoming',\n",
       " 'Nevada',\n",
       " 'Utah',\n",
       " 'Colorado',\n",
       " 'Arizona',\n",
       " 'New Mexico',\n",
       " 'Alaska',\n",
       " 'Washington',\n",
       " 'Oregon',\n",
       " 'California',\n",
       " 'Hawaii']"
      ]
     },
     "execution_count": 14,
     "metadata": {},
     "output_type": "execute_result"
    }
   ],
   "source": [
    "West"
   ]
  },
  {
   "cell_type": "code",
   "execution_count": 15,
   "id": "cddf78f7",
   "metadata": {},
   "outputs": [],
   "source": [
    "# creating region flag\n",
    "ic_data.loc[ic_data['State'].isin(Northeast), 'Region'] = 'Northeast'\n",
    "ic_data.loc[ic_data['State'].isin(Midwest), 'Region'] = 'Midwest'\n",
    "ic_data.loc[ic_data['State'].isin(South), 'Region'] = 'South'\n",
    "ic_data.loc[ic_data['State'].isin(West), 'Region'] = 'West'"
   ]
  },
  {
   "cell_type": "code",
   "execution_count": 16,
   "id": "617b82a8",
   "metadata": {},
   "outputs": [
    {
     "data": {
      "text/plain": [
       "South        10198982\n",
       "West          7831810\n",
       "Midwest       7176924\n",
       "Northeast     5422025\n",
       "Name: Region, dtype: int64"
      ]
     },
     "execution_count": 16,
     "metadata": {},
     "output_type": "execute_result"
    }
   ],
   "source": [
    "ic_data['Region'].value_counts(dropna = False)"
   ]
  },
  {
   "cell_type": "code",
   "execution_count": 17,
   "id": "d30486e8",
   "metadata": {},
   "outputs": [],
   "source": [
    "# Finding missing values\n",
    "nan = ic_data[ic_data['Region'].isnull() == True]"
   ]
  },
  {
   "cell_type": "code",
   "execution_count": 18,
   "id": "d342f520",
   "metadata": {},
   "outputs": [
    {
     "data": {
      "text/html": [
       "<div>\n",
       "<style scoped>\n",
       "    .dataframe tbody tr th:only-of-type {\n",
       "        vertical-align: middle;\n",
       "    }\n",
       "\n",
       "    .dataframe tbody tr th {\n",
       "        vertical-align: top;\n",
       "    }\n",
       "\n",
       "    .dataframe thead th {\n",
       "        text-align: right;\n",
       "    }\n",
       "</style>\n",
       "<table border=\"1\" class=\"dataframe\">\n",
       "  <thead>\n",
       "    <tr style=\"text-align: right;\">\n",
       "      <th></th>\n",
       "      <th>user_id</th>\n",
       "      <th>Gender</th>\n",
       "      <th>State</th>\n",
       "      <th>Age</th>\n",
       "      <th>Date_of_joining</th>\n",
       "      <th>Number_of_dependants</th>\n",
       "      <th>Marital_status</th>\n",
       "      <th>Income</th>\n",
       "      <th>order_id</th>\n",
       "      <th>order_number</th>\n",
       "      <th>...</th>\n",
       "      <th>Busiest day</th>\n",
       "      <th>Busiest_days</th>\n",
       "      <th>busiest_period_of_day</th>\n",
       "      <th>max_order</th>\n",
       "      <th>loyalty_flag</th>\n",
       "      <th>average_price</th>\n",
       "      <th>spending_flag</th>\n",
       "      <th>median_prior_orders</th>\n",
       "      <th>order_frequency_flag</th>\n",
       "      <th>Region</th>\n",
       "    </tr>\n",
       "  </thead>\n",
       "  <tbody>\n",
       "  </tbody>\n",
       "</table>\n",
       "<p>0 rows × 31 columns</p>\n",
       "</div>"
      ],
      "text/plain": [
       "Empty DataFrame\n",
       "Columns: [user_id, Gender, State, Age, Date_of_joining, Number_of_dependants, Marital_status, Income, order_id, order_number, orders_day_of_week, order_hour_of_day, days_since_prior_order, product_id, add_to_cart_order, reordered, product_name, aisle_id, department_id, prices, price_range_loc, Busiest day, Busiest_days, busiest_period_of_day, max_order, loyalty_flag, average_price, spending_flag, median_prior_orders, order_frequency_flag, Region]\n",
       "Index: []\n",
       "\n",
       "[0 rows x 31 columns]"
      ]
     },
     "execution_count": 18,
     "metadata": {},
     "output_type": "execute_result"
    }
   ],
   "source": [
    "nan"
   ]
  },
  {
   "cell_type": "markdown",
   "id": "e66ac19f",
   "metadata": {},
   "source": [
    "There is no missing values in Region column."
   ]
  },
  {
   "cell_type": "markdown",
   "id": "3af0a9ac",
   "metadata": {},
   "source": [
    "# Comparing regional purchasing"
   ]
  },
  {
   "cell_type": "code",
   "execution_count": 19,
   "id": "bdf37c8a",
   "metadata": {},
   "outputs": [],
   "source": [
    "# creating crosstab\n",
    "crosstab = pd.crosstab(ic_data ['Region'], ic_data['spending_flag'], dropna = False)"
   ]
  },
  {
   "cell_type": "code",
   "execution_count": 20,
   "id": "c2385be8",
   "metadata": {},
   "outputs": [
    {
     "data": {
      "text/html": [
       "<div>\n",
       "<style scoped>\n",
       "    .dataframe tbody tr th:only-of-type {\n",
       "        vertical-align: middle;\n",
       "    }\n",
       "\n",
       "    .dataframe tbody tr th {\n",
       "        vertical-align: top;\n",
       "    }\n",
       "\n",
       "    .dataframe thead th {\n",
       "        text-align: right;\n",
       "    }\n",
       "</style>\n",
       "<table border=\"1\" class=\"dataframe\">\n",
       "  <thead>\n",
       "    <tr style=\"text-align: right;\">\n",
       "      <th>spending_flag</th>\n",
       "      <th>High spender</th>\n",
       "      <th>Low spender</th>\n",
       "    </tr>\n",
       "    <tr>\n",
       "      <th>Region</th>\n",
       "      <th></th>\n",
       "      <th></th>\n",
       "    </tr>\n",
       "  </thead>\n",
       "  <tbody>\n",
       "    <tr>\n",
       "      <th>Midwest</th>\n",
       "      <td>28489</td>\n",
       "      <td>7148435</td>\n",
       "    </tr>\n",
       "    <tr>\n",
       "      <th>Northeast</th>\n",
       "      <td>17292</td>\n",
       "      <td>5404733</td>\n",
       "    </tr>\n",
       "    <tr>\n",
       "      <th>South</th>\n",
       "      <td>38765</td>\n",
       "      <td>10160217</td>\n",
       "    </tr>\n",
       "    <tr>\n",
       "      <th>West</th>\n",
       "      <td>29555</td>\n",
       "      <td>7802255</td>\n",
       "    </tr>\n",
       "  </tbody>\n",
       "</table>\n",
       "</div>"
      ],
      "text/plain": [
       "spending_flag  High spender  Low spender\n",
       "Region                                  \n",
       "Midwest               28489      7148435\n",
       "Northeast             17292      5404733\n",
       "South                 38765     10160217\n",
       "West                  29555      7802255"
      ]
     },
     "execution_count": 20,
     "metadata": {},
     "output_type": "execute_result"
    }
   ],
   "source": [
    "crosstab"
   ]
  },
  {
   "cell_type": "code",
   "execution_count": 21,
   "id": "4ab58719",
   "metadata": {},
   "outputs": [],
   "source": [
    "# copy this to excel\n",
    "crosstab.to_clipboard()"
   ]
  },
  {
   "cell_type": "markdown",
   "id": "ad256080",
   "metadata": {},
   "source": [
    "# 4. Create an exclusion flag for low-activity customers (customers with less than 5 orders) and exclude them from the data."
   ]
  },
  {
   "cell_type": "markdown",
   "id": "fe8ebe8f",
   "metadata": {},
   "source": [
    "Exclusion flag for low orders:"
   ]
  },
  {
   "cell_type": "code",
   "execution_count": 22,
   "id": "41934c40",
   "metadata": {},
   "outputs": [
    {
     "data": {
      "text/plain": [
       "0    8\n",
       "1    8\n",
       "2    8\n",
       "3    8\n",
       "4    8\n",
       "Name: max_order, dtype: int64"
      ]
     },
     "execution_count": 22,
     "metadata": {},
     "output_type": "execute_result"
    }
   ],
   "source": [
    "ic_data['max_order'].head()"
   ]
  },
  {
   "cell_type": "code",
   "execution_count": 23,
   "id": "8c6be38b",
   "metadata": {},
   "outputs": [],
   "source": [
    "#creating subset for over 5 orders:\n",
    "ic_data_over_5orders = ic_data[ic_data['max_order'] > 5]"
   ]
  },
  {
   "cell_type": "code",
   "execution_count": 24,
   "id": "684609c1",
   "metadata": {},
   "outputs": [
    {
     "data": {
      "text/plain": [
       "(28521639, 31)"
      ]
     },
     "execution_count": 24,
     "metadata": {},
     "output_type": "execute_result"
    }
   ],
   "source": [
    "ic_data_over_5orders.shape"
   ]
  },
  {
   "cell_type": "code",
   "execution_count": 25,
   "id": "9918bd2c",
   "metadata": {},
   "outputs": [
    {
     "data": {
      "text/plain": [
       "(30629741, 31)"
      ]
     },
     "execution_count": 25,
     "metadata": {},
     "output_type": "execute_result"
    }
   ],
   "source": [
    "ic_data.shape"
   ]
  },
  {
   "cell_type": "code",
   "execution_count": 26,
   "id": "eaff2aae",
   "metadata": {},
   "outputs": [],
   "source": [
    "#exporting subset ic_data_over_5orders:\n",
    "ic_data_over_5orders.to_pickle(os.path.join(path,'02 Data','ic_data_over_5orders.pkl'))"
   ]
  },
  {
   "cell_type": "markdown",
   "id": "48455255",
   "metadata": {},
   "source": [
    "#  Customer profiling"
   ]
  },
  {
   "cell_type": "code",
   "execution_count": 27,
   "id": "fe7eb936",
   "metadata": {},
   "outputs": [
    {
     "data": {
      "text/plain": [
       "count    3.062974e+07\n",
       "mean     4.947348e+01\n",
       "std      1.847859e+01\n",
       "min      1.800000e+01\n",
       "25%      3.300000e+01\n",
       "50%      4.900000e+01\n",
       "75%      6.500000e+01\n",
       "max      8.100000e+01\n",
       "Name: Age, dtype: float64"
      ]
     },
     "execution_count": 27,
     "metadata": {},
     "output_type": "execute_result"
    }
   ],
   "source": [
    "# Age profiling\n",
    "ic_data['Age'].describe()"
   ]
  },
  {
   "cell_type": "code",
   "execution_count": 28,
   "id": "68e0e376",
   "metadata": {},
   "outputs": [],
   "source": [
    "# Age group flags\n",
    "ic_data.loc[ic_data['Age']>= 65, 'age_group'] = 'Senior'"
   ]
  },
  {
   "cell_type": "code",
   "execution_count": 29,
   "id": "596351e6",
   "metadata": {},
   "outputs": [],
   "source": [
    "ic_data.loc[(ic_data['Age'] < 65) & (ic_data['Age'] >= 35), 'age_group'] = 'Middle Age'"
   ]
  },
  {
   "cell_type": "code",
   "execution_count": 30,
   "id": "717b430b",
   "metadata": {},
   "outputs": [],
   "source": [
    "ic_data.loc[ic_data['Age'] <35, 'age_group'] = 'Young Adult'"
   ]
  },
  {
   "cell_type": "code",
   "execution_count": 31,
   "id": "7b518ef0",
   "metadata": {},
   "outputs": [
    {
     "data": {
      "text/plain": [
       "Middle Age     14392922\n",
       "Young Adult     8139248\n",
       "Senior          8097571\n",
       "Name: age_group, dtype: int64"
      ]
     },
     "execution_count": 31,
     "metadata": {},
     "output_type": "execute_result"
    }
   ],
   "source": [
    "ic_data['age_group'].value_counts(dropna = False)"
   ]
  },
  {
   "cell_type": "code",
   "execution_count": 32,
   "id": "bccd0ded",
   "metadata": {},
   "outputs": [
    {
     "data": {
      "text/plain": [
       "count    3.062974e+07\n",
       "mean     9.945980e+04\n",
       "std      4.306626e+04\n",
       "min      2.590300e+04\n",
       "25%      6.706600e+04\n",
       "50%      9.661200e+04\n",
       "75%      1.279340e+05\n",
       "max      5.939010e+05\n",
       "Name: Income, dtype: float64"
      ]
     },
     "execution_count": 32,
     "metadata": {},
     "output_type": "execute_result"
    }
   ],
   "source": [
    "#income profiling\n",
    "ic_data['Income'].describe()"
   ]
  },
  {
   "cell_type": "code",
   "execution_count": 33,
   "id": "bc040e01",
   "metadata": {},
   "outputs": [],
   "source": [
    "# income group flags\n",
    "ic_data.loc[ic_data['Income'] < 70000, 'income_bracket' ] = 'Lower Income'"
   ]
  },
  {
   "cell_type": "code",
   "execution_count": 34,
   "id": "d50f0da5",
   "metadata": {},
   "outputs": [],
   "source": [
    "ic_data.loc[(ic_data['Income'] >= 70000) & (ic_data['Income'] < 125000), 'income_bracket' ] = 'Middle Income'"
   ]
  },
  {
   "cell_type": "code",
   "execution_count": 35,
   "id": "798c97b1",
   "metadata": {},
   "outputs": [],
   "source": [
    "ic_data.loc[ic_data['Income'] > 125000, 'income_bracket' ] = 'Higher Income'"
   ]
  },
  {
   "cell_type": "code",
   "execution_count": 36,
   "id": "0baf796a",
   "metadata": {},
   "outputs": [
    {
     "data": {
      "text/plain": [
       "Middle Income    13974114\n",
       "Lower Income      8491711\n",
       "Higher Income     8163916\n",
       "Name: income_bracket, dtype: int64"
      ]
     },
     "execution_count": 36,
     "metadata": {},
     "output_type": "execute_result"
    }
   ],
   "source": [
    "ic_data['income_bracket'].value_counts(dropna = False)"
   ]
  },
  {
   "cell_type": "code",
   "execution_count": 37,
   "id": "6ba05f78",
   "metadata": {},
   "outputs": [],
   "source": [
    "# dependant and independant flag\n",
    "ic_data.loc[ic_data['Number_of_dependants'] == 0, 'dependants'] = 'Independants'"
   ]
  },
  {
   "cell_type": "code",
   "execution_count": 38,
   "id": "25fc4063",
   "metadata": {},
   "outputs": [],
   "source": [
    "ic_data.loc[ic_data['Number_of_dependants'] >= 1, 'dependants'] = 'Dependants'"
   ]
  },
  {
   "cell_type": "code",
   "execution_count": 39,
   "id": "3e680658",
   "metadata": {},
   "outputs": [
    {
     "data": {
      "text/plain": [
       "Dependants      22980043\n",
       "Independants     7649698\n",
       "Name: dependants, dtype: int64"
      ]
     },
     "execution_count": 39,
     "metadata": {},
     "output_type": "execute_result"
    }
   ],
   "source": [
    "ic_data['dependants'].value_counts()"
   ]
  },
  {
   "cell_type": "markdown",
   "id": "4f668d4d",
   "metadata": {},
   "source": [
    "# 6. Visualizations"
   ]
  },
  {
   "cell_type": "code",
   "execution_count": 40,
   "id": "39cbf6b7",
   "metadata": {},
   "outputs": [
    {
     "data": {
      "image/png": "[encoded data removed]",
      "text/plain": [
       "<Figure size 640x480 with 1 Axes>"
      ]
     },
     "metadata": {},
     "output_type": "display_data"
    }
   ],
   "source": [
    "#bar chart for Age\n",
    "bar_age = ic_data['age_group'].value_counts().plot.bar()"
   ]
  },
  {
   "cell_type": "code",
   "execution_count": 53,
   "id": "7a406b4e",
   "metadata": {},
   "outputs": [],
   "source": [
    "#exporting bar chart\n",
    "bar_age.figure.savefig(os.path.join('/Users/krishngarg/Downloads/Data Analytics/Data immersion /Achievement_4/06-2020 Instacart Basket Analysis/04 Analysis/Visualizations','bar_age.png'))"
   ]
  },
  {
   "cell_type": "code",
   "execution_count": 54,
   "id": "47acc5a5",
   "metadata": {},
   "outputs": [
    {
     "data": {
      "image/png": "[encoded data removed]",
      "text/plain": [
       "<Figure size 640x480 with 1 Axes>"
      ]
     },
     "metadata": {},
     "output_type": "display_data"
    }
   ],
   "source": [
    "# bar chart for income\n",
    "bar_income = ic_data['income_bracket'].value_counts().plot.bar()"
   ]
  },
  {
   "cell_type": "code",
   "execution_count": 56,
   "id": "27c76440",
   "metadata": {},
   "outputs": [],
   "source": [
    "#export bar_income chart\n",
    "bar_income.figure.savefig(os.path.join('/Users/krishngarg/Downloads/Data Analytics/Data immersion /Achievement_4/06-2020 Instacart Basket Analysis/04 Analysis/Visualizations', 'bar_income.png'))"
   ]
  },
  {
   "cell_type": "code",
   "execution_count": 57,
   "id": "f52c51df",
   "metadata": {},
   "outputs": [],
   "source": [
    "path_visualization = r'/Users/krishngarg/Downloads/Data Analytics/Data immersion /Achievement_4/06-2020 Instacart Basket Analysis/04 Analysis/Visualizations'"
   ]
  },
  {
   "cell_type": "code",
   "execution_count": 62,
   "id": "54708513",
   "metadata": {},
   "outputs": [
    {
     "data": {
      "text/plain": [
       "'/Users/krishngarg/Downloads/Data Analytics/Data immersion /Achievement_4/06-2020 Instacart Basket Analysis/04 Analysis/Visualizations'"
      ]
     },
     "execution_count": 62,
     "metadata": {},
     "output_type": "execute_result"
    }
   ],
   "source": [
    "path_visualization"
   ]
  },
  {
   "cell_type": "markdown",
   "id": "508617d4",
   "metadata": {},
   "source": [
    "# Department info"
   ]
  },
  {
   "cell_type": "code",
   "execution_count": 58,
   "id": "eea9f7e0",
   "metadata": {
    "scrolled": false
   },
   "outputs": [
    {
     "data": {
      "image/png": "[encoded data removed]",
      "text/plain": [
       "<Figure size 640x480 with 1 Axes>"
      ]
     },
     "metadata": {},
     "output_type": "display_data"
    }
   ],
   "source": [
    "# department_id purchases\n",
    "bar_dept = ic_data['department_id'].value_counts().plot.bar()"
   ]
  },
  {
   "cell_type": "code",
   "execution_count": 59,
   "id": "16ea21db",
   "metadata": {},
   "outputs": [],
   "source": [
    "# giving names to id numbers\n",
    "department_names = {1: 'Frozen', 2: 'Other', 3: 'Bakery', 4: 'Produce',5: 'Alcohol', 6: 'International',7: 'Beverages', 8:'Pets',9:'Dry Goods Pasta',10: 'Bulk', 11: 'Personal Care', 12: 'Meat/Seafood', 13: 'Pantry', 14: 'Breakfast',15:'Canned Goods', 16: 'Dairy/Eggs', 17: 'Household', 18: ' Babies', 19:'Snacks',20:'Deli',21:'Missing'}"
   ]
  },
  {
   "cell_type": "code",
   "execution_count": 60,
   "id": "189876c4",
   "metadata": {},
   "outputs": [],
   "source": [
    "# df for counts\n",
    "department_counts = ic_data['department_id'].value_counts()"
   ]
  },
  {
   "cell_type": "code",
   "execution_count": 61,
   "id": "33cfdbf9",
   "metadata": {},
   "outputs": [
    {
     "data": {
      "image/png": "[encoded data removed]",
      "text/plain": [
       "<Figure size 640x480 with 1 Axes>"
      ]
     },
     "metadata": {},
     "output_type": "display_data"
    }
   ],
   "source": [
    "ax = department_counts.plot.bar()\n",
    "ax.set_xticklabels([department_names.get(x, '') for x in department_counts.index])\n",
    "for i, v in enumerate(department_counts):\n",
    "    ax.text(i, v, str(v), ha='center', va='bottom')\n",
    "    plt.show()"
   ]
  },
  {
   "cell_type": "code",
   "execution_count": 63,
   "id": "c21f750e",
   "metadata": {},
   "outputs": [],
   "source": [
    "#exporting bar_department_id-name chart\n",
    "ax.figure.savefig(os.path.join(path_visualization, 'bar_dept.png'))"
   ]
  },
  {
   "cell_type": "code",
   "execution_count": 64,
   "id": "75578ae5",
   "metadata": {},
   "outputs": [],
   "source": [
    "# grouping for age and department\n",
    "age_department_counts = ic_data.groupby(['department_id','age_group']).size().unstack(fill_value=0)"
   ]
  },
  {
   "cell_type": "code",
   "execution_count": 65,
   "id": "179670ab",
   "metadata": {},
   "outputs": [
    {
     "data": {
      "image/png": "[encoded data removed]",
      "text/plain": [
       "<Figure size 640x480 with 1 Axes>"
      ]
     },
     "metadata": {},
     "output_type": "display_data"
    }
   ],
   "source": [
    "# bar chart of age and department id\n",
    "bar_age_department = age_department_counts.plot.bar(stacked=True)"
   ]
  },
  {
   "cell_type": "code",
   "execution_count": 66,
   "id": "8c11f01d",
   "metadata": {},
   "outputs": [],
   "source": [
    "# exporting chart\n",
    "bar_age_department.figure.savefig(os.path.join(path_visualization, 'bar_age_department.png'))"
   ]
  },
  {
   "cell_type": "code",
   "execution_count": 67,
   "id": "41f883a9",
   "metadata": {},
   "outputs": [],
   "source": [
    "# grouping for department and income\n",
    "department_income_counts = ic_data.groupby(['department_id','income_bracket']).size().unstack(fill_value=0)"
   ]
  },
  {
   "cell_type": "code",
   "execution_count": 68,
   "id": "117ac835",
   "metadata": {},
   "outputs": [
    {
     "data": {
      "image/png": "[encoded data removed]",
      "text/plain": [
       "<Figure size 640x480 with 1 Axes>"
      ]
     },
     "metadata": {},
     "output_type": "display_data"
    }
   ],
   "source": [
    "# bar chart for department and income\n",
    "bar_depart_income = department_income_counts.plot.bar(stacked=True)"
   ]
  },
  {
   "cell_type": "code",
   "execution_count": 70,
   "id": "519f3377",
   "metadata": {},
   "outputs": [],
   "source": [
    "#export barchart\n",
    "bar_depart_income.figure.savefig(os.path.join(path_visualization, 'bar_depart_income.png'))"
   ]
  },
  {
   "cell_type": "markdown",
   "id": "4cfb157e",
   "metadata": {},
   "source": [
    "#  Family info"
   ]
  },
  {
   "cell_type": "code",
   "execution_count": 72,
   "id": "b8e2934c",
   "metadata": {},
   "outputs": [],
   "source": [
    "# grouping family status and income\n",
    "fam_income_counts = ic_data.groupby(['Marital_status','income_bracket']).size().unstack(fill_value=0)"
   ]
  },
  {
   "cell_type": "code",
   "execution_count": 73,
   "id": "76a3cae8",
   "metadata": {},
   "outputs": [
    {
     "data": {
      "image/png": "[encoded data removed]",
      "text/plain": [
       "<Figure size 640x480 with 1 Axes>"
      ]
     },
     "metadata": {},
     "output_type": "display_data"
    }
   ],
   "source": [
    "# Bar chart for fam status and income\n",
    "fam_income_counts = fam_income_counts.plot.bar(stacked=True )"
   ]
  },
  {
   "cell_type": "code",
   "execution_count": 74,
   "id": "728eb5df",
   "metadata": {},
   "outputs": [],
   "source": [
    "# exporting family income chart\n",
    "fam_income_counts.figure.savefig(os.path.join(path_visualization, 'fam_income.png'))"
   ]
  },
  {
   "cell_type": "code",
   "execution_count": 75,
   "id": "a1fb7cb6",
   "metadata": {},
   "outputs": [],
   "source": [
    "# grouping fam status and age group\n",
    "fam_age_counts = ic_data.groupby(['Marital_status','age_group']).size().unstack(fill_value=0)"
   ]
  },
  {
   "cell_type": "code",
   "execution_count": 76,
   "id": "7461836f",
   "metadata": {},
   "outputs": [
    {
     "data": {
      "image/png": "[encoded data removed]",
      "text/plain": [
       "<Figure size 640x480 with 1 Axes>"
      ]
     },
     "metadata": {},
     "output_type": "display_data"
    }
   ],
   "source": [
    "#bar chart for family status and age group\n",
    "bar_fam_age = fam_age_counts.sort_index().plot.bar(stacked=True )"
   ]
  },
  {
   "cell_type": "code",
   "execution_count": 77,
   "id": "1e178017",
   "metadata": {},
   "outputs": [],
   "source": [
    "#exporting bar chart\n",
    "bar_fam_age.figure.savefig(os.path.join(path_visualization,'bar_fam_age.png'))"
   ]
  },
  {
   "cell_type": "code",
   "execution_count": 78,
   "id": "13ebabf7",
   "metadata": {},
   "outputs": [],
   "source": [
    "# grouping fam status and dependants\n",
    "fam_depend_counts = ic_data.groupby(['Marital_status','dependants']).size().unstack(fill_value=0)"
   ]
  },
  {
   "cell_type": "code",
   "execution_count": 79,
   "id": "2e928991",
   "metadata": {},
   "outputs": [
    {
     "data": {
      "image/png": "[encoded data removed]",
      "text/plain": [
       "<Figure size 640x480 with 1 Axes>"
      ]
     },
     "metadata": {},
     "output_type": "display_data"
    }
   ],
   "source": [
    "#bar chart for family status and dependants\n",
    "bar_fam_depends = fam_depend_counts.sort_index().plot.bar(stacked=True )"
   ]
  },
  {
   "cell_type": "code",
   "execution_count": 81,
   "id": "746784d8",
   "metadata": {},
   "outputs": [],
   "source": [
    "# exporting bar chart\n",
    "bar_fam_depends.figure.savefig(os.path.join(path_visualization, 'bar_fam_dept'))"
   ]
  },
  {
   "cell_type": "markdown",
   "id": "65bc1a25",
   "metadata": {},
   "source": [
    "# 7. Aggregation"
   ]
  },
  {
   "cell_type": "code",
   "execution_count": 82,
   "id": "0d40b491",
   "metadata": {},
   "outputs": [
    {
     "data": {
      "text/html": [
       "<div>\n",
       "<style scoped>\n",
       "    .dataframe tbody tr th:only-of-type {\n",
       "        vertical-align: middle;\n",
       "    }\n",
       "\n",
       "    .dataframe tbody tr th {\n",
       "        vertical-align: top;\n",
       "    }\n",
       "\n",
       "    .dataframe thead tr th {\n",
       "        text-align: left;\n",
       "    }\n",
       "\n",
       "    .dataframe thead tr:last-of-type th {\n",
       "        text-align: right;\n",
       "    }\n",
       "</style>\n",
       "<table border=\"1\" class=\"dataframe\">\n",
       "  <thead>\n",
       "    <tr>\n",
       "      <th></th>\n",
       "      <th colspan=\"3\" halign=\"left\">prices</th>\n",
       "    </tr>\n",
       "    <tr>\n",
       "      <th></th>\n",
       "      <th>mean</th>\n",
       "      <th>min</th>\n",
       "      <th>max</th>\n",
       "    </tr>\n",
       "    <tr>\n",
       "      <th>age_group</th>\n",
       "      <th></th>\n",
       "      <th></th>\n",
       "      <th></th>\n",
       "    </tr>\n",
       "  </thead>\n",
       "  <tbody>\n",
       "    <tr>\n",
       "      <th>Middle Age</th>\n",
       "      <td>7.791550</td>\n",
       "      <td>1.0</td>\n",
       "      <td>25.0</td>\n",
       "    </tr>\n",
       "    <tr>\n",
       "      <th>Senior</th>\n",
       "      <td>7.797149</td>\n",
       "      <td>1.0</td>\n",
       "      <td>25.0</td>\n",
       "    </tr>\n",
       "    <tr>\n",
       "      <th>Young Adult</th>\n",
       "      <td>7.787244</td>\n",
       "      <td>1.0</td>\n",
       "      <td>25.0</td>\n",
       "    </tr>\n",
       "  </tbody>\n",
       "</table>\n",
       "</div>"
      ],
      "text/plain": [
       "               prices           \n",
       "                 mean  min   max\n",
       "age_group                       \n",
       "Middle Age   7.791550  1.0  25.0\n",
       "Senior       7.797149  1.0  25.0\n",
       "Young Adult  7.787244  1.0  25.0"
      ]
     },
     "execution_count": 82,
     "metadata": {},
     "output_type": "execute_result"
    }
   ],
   "source": [
    "# age and spending aggregations\n",
    "ic_data.groupby('age_group').agg({'prices': ['mean', 'min', 'max']})"
   ]
  },
  {
   "cell_type": "code",
   "execution_count": 83,
   "id": "a8f00649",
   "metadata": {},
   "outputs": [
    {
     "data": {
      "text/html": [
       "<div>\n",
       "<style scoped>\n",
       "    .dataframe tbody tr th:only-of-type {\n",
       "        vertical-align: middle;\n",
       "    }\n",
       "\n",
       "    .dataframe tbody tr th {\n",
       "        vertical-align: top;\n",
       "    }\n",
       "\n",
       "    .dataframe thead tr th {\n",
       "        text-align: left;\n",
       "    }\n",
       "\n",
       "    .dataframe thead tr:last-of-type th {\n",
       "        text-align: right;\n",
       "    }\n",
       "</style>\n",
       "<table border=\"1\" class=\"dataframe\">\n",
       "  <thead>\n",
       "    <tr>\n",
       "      <th></th>\n",
       "      <th colspan=\"3\" halign=\"left\">prices</th>\n",
       "    </tr>\n",
       "    <tr>\n",
       "      <th></th>\n",
       "      <th>mean</th>\n",
       "      <th>min</th>\n",
       "      <th>max</th>\n",
       "    </tr>\n",
       "    <tr>\n",
       "      <th>income_bracket</th>\n",
       "      <th></th>\n",
       "      <th></th>\n",
       "      <th></th>\n",
       "    </tr>\n",
       "  </thead>\n",
       "  <tbody>\n",
       "    <tr>\n",
       "      <th>Higher Income</th>\n",
       "      <td>7.956657</td>\n",
       "      <td>1.0</td>\n",
       "      <td>25.0</td>\n",
       "    </tr>\n",
       "    <tr>\n",
       "      <th>Lower Income</th>\n",
       "      <td>7.352350</td>\n",
       "      <td>1.0</td>\n",
       "      <td>25.0</td>\n",
       "    </tr>\n",
       "    <tr>\n",
       "      <th>Middle Income</th>\n",
       "      <td>7.962719</td>\n",
       "      <td>1.0</td>\n",
       "      <td>25.0</td>\n",
       "    </tr>\n",
       "  </tbody>\n",
       "</table>\n",
       "</div>"
      ],
      "text/plain": [
       "                  prices           \n",
       "                    mean  min   max\n",
       "income_bracket                     \n",
       "Higher Income   7.956657  1.0  25.0\n",
       "Lower Income    7.352350  1.0  25.0\n",
       "Middle Income   7.962719  1.0  25.0"
      ]
     },
     "execution_count": 83,
     "metadata": {},
     "output_type": "execute_result"
    }
   ],
   "source": [
    "# income and spending aggregations\n",
    "ic_data.groupby('income_bracket').agg({'prices': ['mean', 'min', 'max']})"
   ]
  },
  {
   "cell_type": "code",
   "execution_count": 84,
   "id": "4962affa",
   "metadata": {},
   "outputs": [
    {
     "data": {
      "text/html": [
       "<div>\n",
       "<style scoped>\n",
       "    .dataframe tbody tr th:only-of-type {\n",
       "        vertical-align: middle;\n",
       "    }\n",
       "\n",
       "    .dataframe tbody tr th {\n",
       "        vertical-align: top;\n",
       "    }\n",
       "\n",
       "    .dataframe thead tr th {\n",
       "        text-align: left;\n",
       "    }\n",
       "\n",
       "    .dataframe thead tr:last-of-type th {\n",
       "        text-align: right;\n",
       "    }\n",
       "</style>\n",
       "<table border=\"1\" class=\"dataframe\">\n",
       "  <thead>\n",
       "    <tr>\n",
       "      <th></th>\n",
       "      <th colspan=\"3\" halign=\"left\">prices</th>\n",
       "    </tr>\n",
       "    <tr>\n",
       "      <th></th>\n",
       "      <th>mean</th>\n",
       "      <th>min</th>\n",
       "      <th>max</th>\n",
       "    </tr>\n",
       "    <tr>\n",
       "      <th>dependants</th>\n",
       "      <th></th>\n",
       "      <th></th>\n",
       "      <th></th>\n",
       "    </tr>\n",
       "  </thead>\n",
       "  <tbody>\n",
       "    <tr>\n",
       "      <th>Dependants</th>\n",
       "      <td>7.792668</td>\n",
       "      <td>1.0</td>\n",
       "      <td>25.0</td>\n",
       "    </tr>\n",
       "    <tr>\n",
       "      <th>Independants</th>\n",
       "      <td>7.789536</td>\n",
       "      <td>1.0</td>\n",
       "      <td>25.0</td>\n",
       "    </tr>\n",
       "  </tbody>\n",
       "</table>\n",
       "</div>"
      ],
      "text/plain": [
       "                prices           \n",
       "                  mean  min   max\n",
       "dependants                       \n",
       "Dependants    7.792668  1.0  25.0\n",
       "Independants  7.789536  1.0  25.0"
      ]
     },
     "execution_count": 84,
     "metadata": {},
     "output_type": "execute_result"
    }
   ],
   "source": [
    "# dependants and spending aggregations\n",
    "ic_data.groupby('dependants').agg({'prices': ['mean', 'min', 'max']})"
   ]
  },
  {
   "cell_type": "code",
   "execution_count": 86,
   "id": "68ad95aa",
   "metadata": {},
   "outputs": [
    {
     "data": {
      "text/html": [
       "<div>\n",
       "<style scoped>\n",
       "    .dataframe tbody tr th:only-of-type {\n",
       "        vertical-align: middle;\n",
       "    }\n",
       "\n",
       "    .dataframe tbody tr th {\n",
       "        vertical-align: top;\n",
       "    }\n",
       "\n",
       "    .dataframe thead tr th {\n",
       "        text-align: left;\n",
       "    }\n",
       "\n",
       "    .dataframe thead tr:last-of-type th {\n",
       "        text-align: right;\n",
       "    }\n",
       "</style>\n",
       "<table border=\"1\" class=\"dataframe\">\n",
       "  <thead>\n",
       "    <tr>\n",
       "      <th></th>\n",
       "      <th colspan=\"3\" halign=\"left\">prices</th>\n",
       "    </tr>\n",
       "    <tr>\n",
       "      <th></th>\n",
       "      <th>mean</th>\n",
       "      <th>min</th>\n",
       "      <th>max</th>\n",
       "    </tr>\n",
       "    <tr>\n",
       "      <th>Marital_status</th>\n",
       "      <th></th>\n",
       "      <th></th>\n",
       "      <th></th>\n",
       "    </tr>\n",
       "  </thead>\n",
       "  <tbody>\n",
       "    <tr>\n",
       "      <th>divorced/widowed</th>\n",
       "      <td>7.801000</td>\n",
       "      <td>1.0</td>\n",
       "      <td>25.0</td>\n",
       "    </tr>\n",
       "    <tr>\n",
       "      <th>living with parents and siblings</th>\n",
       "      <td>7.806728</td>\n",
       "      <td>1.0</td>\n",
       "      <td>25.0</td>\n",
       "    </tr>\n",
       "    <tr>\n",
       "      <th>married</th>\n",
       "      <td>7.791707</td>\n",
       "      <td>1.0</td>\n",
       "      <td>25.0</td>\n",
       "    </tr>\n",
       "    <tr>\n",
       "      <th>single</th>\n",
       "      <td>7.783530</td>\n",
       "      <td>1.0</td>\n",
       "      <td>25.0</td>\n",
       "    </tr>\n",
       "  </tbody>\n",
       "</table>\n",
       "</div>"
      ],
      "text/plain": [
       "                                    prices           \n",
       "                                      mean  min   max\n",
       "Marital_status                                       \n",
       "divorced/widowed                  7.801000  1.0  25.0\n",
       "living with parents and siblings  7.806728  1.0  25.0\n",
       "married                           7.791707  1.0  25.0\n",
       "single                            7.783530  1.0  25.0"
      ]
     },
     "execution_count": 86,
     "metadata": {},
     "output_type": "execute_result"
    }
   ],
   "source": [
    "# fam status and spending\n",
    "ic_data.groupby('Marital_status').agg({'prices': ['mean', 'min', 'max']})"
   ]
  },
  {
   "cell_type": "code",
   "execution_count": 87,
   "id": "9f171655",
   "metadata": {},
   "outputs": [
    {
     "data": {
      "text/html": [
       "<div>\n",
       "<style scoped>\n",
       "    .dataframe tbody tr th:only-of-type {\n",
       "        vertical-align: middle;\n",
       "    }\n",
       "\n",
       "    .dataframe tbody tr th {\n",
       "        vertical-align: top;\n",
       "    }\n",
       "\n",
       "    .dataframe thead tr th {\n",
       "        text-align: left;\n",
       "    }\n",
       "\n",
       "    .dataframe thead tr:last-of-type th {\n",
       "        text-align: right;\n",
       "    }\n",
       "</style>\n",
       "<table border=\"1\" class=\"dataframe\">\n",
       "  <thead>\n",
       "    <tr>\n",
       "      <th></th>\n",
       "      <th colspan=\"3\" halign=\"left\">days_since_prior_order</th>\n",
       "    </tr>\n",
       "    <tr>\n",
       "      <th></th>\n",
       "      <th>mean</th>\n",
       "      <th>min</th>\n",
       "      <th>max</th>\n",
       "    </tr>\n",
       "    <tr>\n",
       "      <th>age_group</th>\n",
       "      <th></th>\n",
       "      <th></th>\n",
       "      <th></th>\n",
       "    </tr>\n",
       "  </thead>\n",
       "  <tbody>\n",
       "    <tr>\n",
       "      <th>Middle Age</th>\n",
       "      <td>11.114926</td>\n",
       "      <td>0.0</td>\n",
       "      <td>30.0</td>\n",
       "    </tr>\n",
       "    <tr>\n",
       "      <th>Senior</th>\n",
       "      <td>11.080959</td>\n",
       "      <td>0.0</td>\n",
       "      <td>30.0</td>\n",
       "    </tr>\n",
       "    <tr>\n",
       "      <th>Young Adult</th>\n",
       "      <td>11.132158</td>\n",
       "      <td>0.0</td>\n",
       "      <td>30.0</td>\n",
       "    </tr>\n",
       "  </tbody>\n",
       "</table>\n",
       "</div>"
      ],
      "text/plain": [
       "            days_since_prior_order           \n",
       "                              mean  min   max\n",
       "age_group                                    \n",
       "Middle Age               11.114926  0.0  30.0\n",
       "Senior                   11.080959  0.0  30.0\n",
       "Young Adult              11.132158  0.0  30.0"
      ]
     },
     "execution_count": 87,
     "metadata": {},
     "output_type": "execute_result"
    }
   ],
   "source": [
    "# age and frequency\n",
    "ic_data.groupby('age_group').agg({'days_since_prior_order': ['mean', 'min', 'max']})"
   ]
  },
  {
   "cell_type": "code",
   "execution_count": 88,
   "id": "0f3ddf78",
   "metadata": {},
   "outputs": [
    {
     "data": {
      "text/html": [
       "<div>\n",
       "<style scoped>\n",
       "    .dataframe tbody tr th:only-of-type {\n",
       "        vertical-align: middle;\n",
       "    }\n",
       "\n",
       "    .dataframe tbody tr th {\n",
       "        vertical-align: top;\n",
       "    }\n",
       "\n",
       "    .dataframe thead tr th {\n",
       "        text-align: left;\n",
       "    }\n",
       "\n",
       "    .dataframe thead tr:last-of-type th {\n",
       "        text-align: right;\n",
       "    }\n",
       "</style>\n",
       "<table border=\"1\" class=\"dataframe\">\n",
       "  <thead>\n",
       "    <tr>\n",
       "      <th></th>\n",
       "      <th colspan=\"3\" halign=\"left\">days_since_prior_order</th>\n",
       "    </tr>\n",
       "    <tr>\n",
       "      <th></th>\n",
       "      <th>mean</th>\n",
       "      <th>min</th>\n",
       "      <th>max</th>\n",
       "    </tr>\n",
       "    <tr>\n",
       "      <th>income_bracket</th>\n",
       "      <th></th>\n",
       "      <th></th>\n",
       "      <th></th>\n",
       "    </tr>\n",
       "  </thead>\n",
       "  <tbody>\n",
       "    <tr>\n",
       "      <th>Higher Income</th>\n",
       "      <td>11.028248</td>\n",
       "      <td>0.0</td>\n",
       "      <td>30.0</td>\n",
       "    </tr>\n",
       "    <tr>\n",
       "      <th>Lower Income</th>\n",
       "      <td>11.290482</td>\n",
       "      <td>0.0</td>\n",
       "      <td>30.0</td>\n",
       "    </tr>\n",
       "    <tr>\n",
       "      <th>Middle Income</th>\n",
       "      <td>11.049773</td>\n",
       "      <td>0.0</td>\n",
       "      <td>30.0</td>\n",
       "    </tr>\n",
       "  </tbody>\n",
       "</table>\n",
       "</div>"
      ],
      "text/plain": [
       "               days_since_prior_order           \n",
       "                                 mean  min   max\n",
       "income_bracket                                  \n",
       "Higher Income               11.028248  0.0  30.0\n",
       "Lower Income                11.290482  0.0  30.0\n",
       "Middle Income               11.049773  0.0  30.0"
      ]
     },
     "execution_count": 88,
     "metadata": {},
     "output_type": "execute_result"
    }
   ],
   "source": [
    "# income and frequency\n",
    "ic_data.groupby('income_bracket').agg({'days_since_prior_order': ['mean', 'min', 'max']})"
   ]
  },
  {
   "cell_type": "code",
   "execution_count": 89,
   "id": "007d4286",
   "metadata": {},
   "outputs": [
    {
     "data": {
      "text/html": [
       "<div>\n",
       "<style scoped>\n",
       "    .dataframe tbody tr th:only-of-type {\n",
       "        vertical-align: middle;\n",
       "    }\n",
       "\n",
       "    .dataframe tbody tr th {\n",
       "        vertical-align: top;\n",
       "    }\n",
       "\n",
       "    .dataframe thead tr th {\n",
       "        text-align: left;\n",
       "    }\n",
       "\n",
       "    .dataframe thead tr:last-of-type th {\n",
       "        text-align: right;\n",
       "    }\n",
       "</style>\n",
       "<table border=\"1\" class=\"dataframe\">\n",
       "  <thead>\n",
       "    <tr>\n",
       "      <th></th>\n",
       "      <th colspan=\"3\" halign=\"left\">days_since_prior_order</th>\n",
       "    </tr>\n",
       "    <tr>\n",
       "      <th></th>\n",
       "      <th>mean</th>\n",
       "      <th>min</th>\n",
       "      <th>max</th>\n",
       "    </tr>\n",
       "    <tr>\n",
       "      <th>dependants</th>\n",
       "      <th></th>\n",
       "      <th></th>\n",
       "      <th></th>\n",
       "    </tr>\n",
       "  </thead>\n",
       "  <tbody>\n",
       "    <tr>\n",
       "      <th>Dependants</th>\n",
       "      <td>11.119048</td>\n",
       "      <td>0.0</td>\n",
       "      <td>30.0</td>\n",
       "    </tr>\n",
       "    <tr>\n",
       "      <th>Independants</th>\n",
       "      <td>11.084925</td>\n",
       "      <td>0.0</td>\n",
       "      <td>30.0</td>\n",
       "    </tr>\n",
       "  </tbody>\n",
       "</table>\n",
       "</div>"
      ],
      "text/plain": [
       "             days_since_prior_order           \n",
       "                               mean  min   max\n",
       "dependants                                    \n",
       "Dependants                11.119048  0.0  30.0\n",
       "Independants              11.084925  0.0  30.0"
      ]
     },
     "execution_count": 89,
     "metadata": {},
     "output_type": "execute_result"
    }
   ],
   "source": [
    "# dependants and frequency\n",
    "ic_data.groupby('dependants').agg({'days_since_prior_order': ['mean', 'min', 'max']})"
   ]
  },
  {
   "cell_type": "code",
   "execution_count": 91,
   "id": "c32c4ba2",
   "metadata": {},
   "outputs": [
    {
     "data": {
      "text/html": [
       "<div>\n",
       "<style scoped>\n",
       "    .dataframe tbody tr th:only-of-type {\n",
       "        vertical-align: middle;\n",
       "    }\n",
       "\n",
       "    .dataframe tbody tr th {\n",
       "        vertical-align: top;\n",
       "    }\n",
       "\n",
       "    .dataframe thead tr th {\n",
       "        text-align: left;\n",
       "    }\n",
       "\n",
       "    .dataframe thead tr:last-of-type th {\n",
       "        text-align: right;\n",
       "    }\n",
       "</style>\n",
       "<table border=\"1\" class=\"dataframe\">\n",
       "  <thead>\n",
       "    <tr>\n",
       "      <th></th>\n",
       "      <th colspan=\"3\" halign=\"left\">days_since_prior_order</th>\n",
       "    </tr>\n",
       "    <tr>\n",
       "      <th></th>\n",
       "      <th>mean</th>\n",
       "      <th>min</th>\n",
       "      <th>max</th>\n",
       "    </tr>\n",
       "    <tr>\n",
       "      <th>Marital_status</th>\n",
       "      <th></th>\n",
       "      <th></th>\n",
       "      <th></th>\n",
       "    </tr>\n",
       "  </thead>\n",
       "  <tbody>\n",
       "    <tr>\n",
       "      <th>divorced/widowed</th>\n",
       "      <td>11.027251</td>\n",
       "      <td>0.0</td>\n",
       "      <td>30.0</td>\n",
       "    </tr>\n",
       "    <tr>\n",
       "      <th>living with parents and siblings</th>\n",
       "      <td>11.047268</td>\n",
       "      <td>0.0</td>\n",
       "      <td>30.0</td>\n",
       "    </tr>\n",
       "    <tr>\n",
       "      <th>married</th>\n",
       "      <td>11.123960</td>\n",
       "      <td>0.0</td>\n",
       "      <td>30.0</td>\n",
       "    </tr>\n",
       "    <tr>\n",
       "      <th>single</th>\n",
       "      <td>11.115149</td>\n",
       "      <td>0.0</td>\n",
       "      <td>30.0</td>\n",
       "    </tr>\n",
       "  </tbody>\n",
       "</table>\n",
       "</div>"
      ],
      "text/plain": [
       "                                 days_since_prior_order           \n",
       "                                                   mean  min   max\n",
       "Marital_status                                                    \n",
       "divorced/widowed                              11.027251  0.0  30.0\n",
       "living with parents and siblings              11.047268  0.0  30.0\n",
       "married                                       11.123960  0.0  30.0\n",
       "single                                        11.115149  0.0  30.0"
      ]
     },
     "execution_count": 91,
     "metadata": {},
     "output_type": "execute_result"
    }
   ],
   "source": [
    "# fam status and frequency\n",
    "ic_data.groupby('Marital_status').agg({'days_since_prior_order': ['mean', 'min', 'max']})"
   ]
  },
  {
   "cell_type": "markdown",
   "id": "34585820",
   "metadata": {},
   "source": [
    "# 8."
   ]
  },
  {
   "cell_type": "markdown",
   "id": "7e7decd7",
   "metadata": {},
   "source": [
    "Regional Data"
   ]
  },
  {
   "cell_type": "code",
   "execution_count": 92,
   "id": "9035212f",
   "metadata": {},
   "outputs": [],
   "source": [
    "# grouping region and ages\n",
    "region_age_counts = ic_data.groupby(['Region','age_group']).size().unstack(fill_value=0)"
   ]
  },
  {
   "cell_type": "code",
   "execution_count": 93,
   "id": "31f82826",
   "metadata": {},
   "outputs": [
    {
     "data": {
      "image/png": "[encoded data removed]",
      "text/plain": [
       "<Figure size 640x480 with 1 Axes>"
      ]
     },
     "metadata": {},
     "output_type": "display_data"
    }
   ],
   "source": [
    "# bar chart for region and ages\n",
    "region_age = region_age_counts.sort_index().plot.bar(stacked=True )"
   ]
  },
  {
   "cell_type": "code",
   "execution_count": 94,
   "id": "578433ba",
   "metadata": {},
   "outputs": [],
   "source": [
    "# exporting region and age bar chart\n",
    "region_age.figure.savefig(os.path.join(path_visualization, 'bar_region_age.png'))"
   ]
  },
  {
   "cell_type": "code",
   "execution_count": 95,
   "id": "a3bad5eb",
   "metadata": {},
   "outputs": [],
   "source": [
    "# grouping fam status and region\n",
    "fam_region_counts = ic_data.groupby(['Region','Marital_status']).size().unstack(fill_value=0)"
   ]
  },
  {
   "cell_type": "code",
   "execution_count": 96,
   "id": "e3ac087a",
   "metadata": {},
   "outputs": [
    {
     "data": {
      "image/png": "[encoded data removed]",
      "text/plain": [
       "<Figure size 640x480 with 1 Axes>"
      ]
     },
     "metadata": {},
     "output_type": "display_data"
    }
   ],
   "source": [
    "# bar chart for fam status and region\n",
    "bar_fam_region = fam_region_counts.sort_index().plot.bar(stacked=True)"
   ]
  },
  {
   "cell_type": "code",
   "execution_count": 97,
   "id": "9bd96960",
   "metadata": {},
   "outputs": [],
   "source": [
    "# exporting fam status region chart\n",
    "bar_fam_region.figure.savefig(os.path.join(path_visualization, 'bar_fam_region.png'))"
   ]
  },
  {
   "cell_type": "code",
   "execution_count": 98,
   "id": "bda3692c",
   "metadata": {},
   "outputs": [],
   "source": [
    "# grouping region and income\n",
    "region_income_counts = ic_data.groupby(['Region','income_bracket']).size().unstack(fill_value=0)"
   ]
  },
  {
   "cell_type": "code",
   "execution_count": 99,
   "id": "156ecf1f",
   "metadata": {},
   "outputs": [
    {
     "data": {
      "image/png": "[encoded data removed]",
      "text/plain": [
       "<Figure size 640x480 with 1 Axes>"
      ]
     },
     "metadata": {},
     "output_type": "display_data"
    }
   ],
   "source": [
    "# bar chart for region and income\n",
    "bar_region_income = region_income_counts.sort_index().plot.bar(stacked=True)"
   ]
  },
  {
   "cell_type": "code",
   "execution_count": 100,
   "id": "217fc7f6",
   "metadata": {},
   "outputs": [],
   "source": [
    "# exporting bar chart\n",
    "bar_region_income.figure.savefig(os.path.join(path_visualization, 'bar_region_income.png'))"
   ]
  },
  {
   "cell_type": "code",
   "execution_count": 101,
   "id": "e6ea431d",
   "metadata": {},
   "outputs": [],
   "source": [
    "# grouping for region and dependants\n",
    "region_depend_counts = ic_data.groupby(['Region', 'dependants']).size().unstack(fill_value=0)"
   ]
  },
  {
   "cell_type": "code",
   "execution_count": 102,
   "id": "b262923e",
   "metadata": {},
   "outputs": [
    {
     "data": {
      "image/png": "[encoded data removed]",
      "text/plain": [
       "<Figure size 640x480 with 1 Axes>"
      ]
     },
     "metadata": {},
     "output_type": "display_data"
    }
   ],
   "source": [
    "# bar chart for region and dependants\n",
    "bar_region_depend = region_depend_counts.sort_index().plot.bar(stacked=True)"
   ]
  },
  {
   "cell_type": "code",
   "execution_count": 104,
   "id": "7f9a9b3f",
   "metadata": {},
   "outputs": [],
   "source": [
    "# exporting bar chart\n",
    "bar_region_depend.figure.savefig(os.path.join(path_visualization, 'bar_region_dependants.png'))"
   ]
  },
  {
   "cell_type": "code",
   "execution_count": 107,
   "id": "17d17663",
   "metadata": {},
   "outputs": [],
   "source": [
    "path_prepared_data = r'/Users/krishngarg/Downloads/Data Analytics/Data immersion /Achievement_4/06-2020 Instacart Basket Analysis/02 Data/Prepared Data '"
   ]
  },
  {
   "cell_type": "code",
   "execution_count": 108,
   "id": "9a0f3f23",
   "metadata": {},
   "outputs": [],
   "source": [
    "# exporting dataset\n",
    "ic_data.to_pickle(os.path.join(path_prepared_data, 'ic_data_final.pkl'))"
   ]
  },
  {
   "cell_type": "code",
   "execution_count": null,
   "id": "e72fcedf",
   "metadata": {},
   "outputs": [],
   "source": []
  }
 ],
 "metadata": {
  "kernelspec": {
   "display_name": "Python 3 (ipykernel)",
   "language": "python",
   "name": "python3"
  },
  "language_info": {
   "codemirror_mode": {
    "name": "ipython",
    "version": 3
   },
   "file_extension": ".py",
   "mimetype": "text/x-python",
   "name": "python",
   "nbconvert_exporter": "python",
   "pygments_lexer": "ipython3",
   "version": "3.10.9"
  }
 },
 "nbformat": 4,
 "nbformat_minor": 5
}
